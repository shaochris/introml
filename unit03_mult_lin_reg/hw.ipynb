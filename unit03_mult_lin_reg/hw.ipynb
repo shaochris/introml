{
 "metadata": {
  "language_info": {
   "codemirror_mode": {
    "name": "ipython",
    "version": 3
   },
   "file_extension": ".py",
   "mimetype": "text/x-python",
   "name": "python",
   "nbconvert_exporter": "python",
   "pygments_lexer": "ipython3",
   "version": "3.8.3-final"
  },
  "orig_nbformat": 2,
  "kernelspec": {
   "name": "python3",
   "display_name": "Python 3"
  }
 },
 "nbformat": 4,
 "nbformat_minor": 2,
 "cells": [
  {
   "cell_type": "code",
   "execution_count": 1,
   "metadata": {},
   "outputs": [],
   "source": [
    "import pandas as pd\n",
    "import numpy as np\n",
    "import matplotlib\n",
    "import matplotlib.pyplot as plt\n",
    "%matplotlib inline"
   ]
  },
  {
   "cell_type": "code",
   "execution_count": 26,
   "metadata": {
    "tags": []
   },
   "outputs": [
    {
     "output_type": "stream",
     "name": "stdout",
     "text": "[0.75 4.25 3.25 6.75]\n0.25\n"
    }
   ],
   "source": [
    "from sklearn import linear_model\n",
    "x = np.array([[0,0],[0,1],[1,0],[1,1]])\n",
    "y  = np.array([1,4,3,7])\n",
    "\n",
    "regr = linear_model.LinearRegression()\n",
    "regr.fit(x, y)\n",
    "\n",
    "y_pred = regr.predict(x)\n",
    "\n",
    "print(y_pred)\n",
    "# RSS(beta)\n",
    "RSS = 0\n",
    "for i in range(len(y_pred)):\n",
    "    RSS += (y[i] - y_pred[i])**2\n",
    "print(RSS)"
   ]
  },
  {
   "cell_type": "code",
   "execution_count": 25,
   "metadata": {
    "tags": []
   },
   "outputs": [
    {
     "output_type": "stream",
     "name": "stdout",
     "text": "[[3. 4.]]\n"
    }
   ],
   "source": [
    "A = np.matrix(\n",
    "    '0 0; 0 1; 1 0; 1 1'\n",
    ")\n",
    "B = np.matrix(y)\n",
    "A_transpose = np.transpose(A)\n",
    "\n",
    "\n",
    "beta_pred = np.dot(np.dot( np.linalg.inv(np.dot(A_transpose, A)), A_transpose), y)\n",
    "\n",
    "print(beta_pred)"
   ]
  },
  {
   "cell_type": "code",
   "execution_count": null,
   "metadata": {},
   "outputs": [],
   "source": []
  }
 ]
}