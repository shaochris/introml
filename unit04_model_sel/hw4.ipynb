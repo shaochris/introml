{
 "metadata": {
  "language_info": {
   "codemirror_mode": {
    "name": "ipython",
    "version": 3
   },
   "file_extension": ".py",
   "mimetype": "text/x-python",
   "name": "python",
   "nbconvert_exporter": "python",
   "pygments_lexer": "ipython3",
   "version": "3.8.3-final"
  },
  "orig_nbformat": 2,
  "kernelspec": {
   "name": "python3",
   "display_name": "Python 3"
  }
 },
 "nbformat": 4,
 "nbformat_minor": 2,
 "cells": [
  {
   "cell_type": "code",
   "execution_count": 167,
   "metadata": {},
   "outputs": [],
   "source": [
    "import numpy as np\n",
    "import matplotlib\n",
    "import matplotlib.pyplot as plt\n",
    "from sklearn.model_selection import train_test_split\n",
    "from sklearn import linear_model\n"
   ]
  },
  {
   "cell_type": "code",
   "execution_count": 168,
   "metadata": {
    "tags": []
   },
   "outputs": [
    {
     "output_type": "stream",
     "name": "stdout",
     "text": "[0.004936512146570778, 0.009089084031095523, 0.004451839679935252, 0.006419104120750275, 0.004074458562216201, 0.003649098445281773, 0.003958538129109237, 0.0040643277241232696, 0.004455410912391878, 0.003838298836839376]\n0.003649098445281773\n"
    }
   ],
   "source": [
    "\n",
    "# create some exponential data\n",
    "udat = np.arange(1,10,0.1)\n",
    "\n",
    "dtest= np.array(range(1,11))\n",
    "MSE = []\n",
    "\n",
    "for d in dtest:\n",
    "    d_i = np.array(range(1,d+1))\n",
    "    b = d_i / d\n",
    "\n",
    "    exponent = (-b)*udat[:, None]\n",
    "    ydat = np.exp(exponent)\n",
    "\n",
    "    # split them in half\n",
    "    utr,uts,ytr,yts = train_test_split(udat, ydat, test_size=0.5)\n",
    "\n",
    "    # transform the expoential y data\n",
    "    ln_ytr = np.log(ytr)\n",
    "\n",
    "    # create linear regression model\n",
    "    model = linear_model.LinearRegression()\n",
    "\n",
    "    # training the model using traning data\n",
    "    model.fit(utr[:,None],ytr)\n",
    "    yhat = model.predict(uts[:, None])\n",
    "    \n",
    "    RSSts = np.mean((yhat-yts)**2) / (np.std(yts)**2)\n",
    "    MSEts = np.mean((yhat-yts)**2)\n",
    "    MSE.append(MSEts)\n",
    "\n",
    "print(MSE)\n",
    "print(min(MSE))"
   ]
  }
 ]
}