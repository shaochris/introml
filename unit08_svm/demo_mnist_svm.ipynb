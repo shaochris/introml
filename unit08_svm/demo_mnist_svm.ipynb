{
 "cells": [
  {
   "cell_type": "markdown",
   "metadata": {},
   "source": [
    "# Demo 6: SVM for MNIST Digit Recognition\n",
    "\n",
    "In this demo, you will learn to:\n",
    "* Load and display images\n",
    "* Formulate image classification problems\n",
    "* Explain the limitations of linear classifiers for image classification\n",
    "* Build a simple SVM image classifier \n",
    "* Save and load results using `pickle`.\n",
    "\n",
    "For data, we will use the classic [MNIST](https://en.wikipedia.org/wiki/MNIST_database) data set used to recognize hand-written digits.  The dataset was originally produced in the 1980s and is now widely-used in machine learning classes as a simple image classification problem.  "
   ]
  },
  {
   "cell_type": "markdown",
   "metadata": {},
   "source": [
    "## Loading the Data\n",
    "\n",
    "First, we load the standard packages."
   ]
  },
  {
   "cell_type": "code",
   "execution_count": 1,
   "metadata": {},
   "outputs": [],
   "source": [
    "import numpy as np\n",
    "import matplotlib\n",
    "import matplotlib.pyplot as plt\n",
    "%matplotlib inline"
   ]
  },
  {
   "cell_type": "markdown",
   "metadata": {},
   "source": [
    "Since the MNIST dataset is so widely-used, it comes in as a build-in dataset in many packages. In this lab, we will download the data from the Tensorflow package -- See here for [installations instructions](https://www.tensorflow.org/install).  You can get the data from other sources as well. \n",
    "\n",
    "In the Tensorflow dataset, the training and test data are represented as arrays:\n",
    "\n",
    "     Xtr.shape = 60000 x 28 x 28\n",
    "     Xts.shape = 10000 x 28 x 28\n",
    "     \n",
    "The test data consists of `60000` images of size `28 x 28` pixels; the test data consists of `10000` images."
   ]
  },
  {
   "cell_type": "code",
   "execution_count": 3,
   "metadata": {},
   "outputs": [
    {
     "output_type": "stream",
     "name": "stdout",
     "text": [
      "Downloading data from https://storage.googleapis.com/tensorflow/tf-keras-datasets/mnist.npz\n",
      "11493376/11490434 [==============================] - 2s 0us/step\n",
      "Xtr shape: (60000, 28, 28)\n",
      "Xts shape: (10000, 28, 28)\n"
     ]
    }
   ],
   "source": [
    "import tensorflow as tf\n",
    "\n",
    "(Xtr,ytr),(Xts,yts) = tf.keras.datasets.mnist.load_data()\n",
    "\n",
    "print('Xtr shape: %s' % str(Xtr.shape))\n",
    "print('Xts shape: %s' % str(Xts.shape))\n",
    "\n",
    "ntr = Xtr.shape[0]\n",
    "nts = Xts.shape[0]\n",
    "nrow = Xtr.shape[1]\n",
    "ncol = Xtr.shape[2]"
   ]
  },
  {
   "cell_type": "markdown",
   "metadata": {},
   "source": [
    "Each pixel value is from `[0,255]`.  For this lab, it will be convenient to recale the value to -1 to 1 and reshape it as a `ntr x npix` and `nts x npix`."
   ]
  },
  {
   "cell_type": "code",
   "execution_count": 6,
   "metadata": {},
   "outputs": [],
   "source": [
    "npix = nrow*ncol\n",
    "Xtr = 2*(Xtr/255 - 0.5)\n",
    "Xtr = Xtr.reshape((ntr,npix))\n",
    "\n",
    "Xts = 2*(Xts/255 - 0.5)\n",
    "Xts = Xts.reshape((nts,npix))"
   ]
  },
  {
   "cell_type": "code",
   "execution_count": 5,
   "metadata": {},
   "outputs": [
    {
     "output_type": "display_data",
     "data": {
      "text/plain": "<Figure size 432x288 with 4 Axes>",
      "image/svg+xml": "<?xml version=\"1.0\" encoding=\"utf-8\" standalone=\"no\"?>\n<!DOCTYPE svg PUBLIC \"-//W3C//DTD SVG 1.1//EN\"\n  \"http://www.w3.org/Graphics/SVG/1.1/DTD/svg11.dtd\">\n<!-- Created with matplotlib (https://matplotlib.org/) -->\n<svg height=\"90.682609pt\" version=\"1.1\" viewBox=\"0 0 352.7 90.682609\" width=\"352.7pt\" xmlns=\"http://www.w3.org/2000/svg\" xmlns:xlink=\"http://www.w3.org/1999/xlink\">\n <metadata>\n  <rdf:RDF xmlns:cc=\"http://creativecommons.org/ns#\" xmlns:dc=\"http://purl.org/dc/elements/1.1/\" xmlns:rdf=\"http://www.w3.org/1999/02/22-rdf-syntax-ns#\">\n   <cc:Work>\n    <dc:type rdf:resource=\"http://purl.org/dc/dcmitype/StillImage\"/>\n    <dc:date>2020-10-25T21:31:53.219956</dc:date>\n    <dc:format>image/svg+xml</dc:format>\n    <dc:creator>\n     <cc:Agent>\n      <dc:title>Matplotlib v3.3.1, https://matplotlib.org/</dc:title>\n     </cc:Agent>\n    </dc:creator>\n   </cc:Work>\n  </rdf:RDF>\n </metadata>\n <defs>\n  <style type=\"text/css\">*{stroke-linecap:butt;stroke-linejoin:round;}</style>\n </defs>\n <g id=\"figure_1\">\n  <g id=\"patch_1\">\n   <path d=\"M 0 90.682609 \nL 352.7 90.682609 \nL 352.7 0 \nL 0 0 \nz\n\" style=\"fill:none;\"/>\n  </g>\n  <g id=\"axes_1\">\n   <g id=\"patch_2\">\n    <path d=\"M 10.7 79.982609 \nL 83.482609 79.982609 \nL 83.482609 7.2 \nL 10.7 7.2 \nz\n\" style=\"fill:#ffffff;\"/>\n   </g>\n   <g clip-path=\"url(#p362ce73a78)\">\n    <image height=\"73\" id=\"image44463a4638\" transform=\"scale(1 -1)translate(0 -73)\" width=\"73\" x=\"10.7\" xlink:href=\"data:image/png;base64,\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\" y=\"-6.982609\"/>\n   </g>\n   <g id=\"matplotlib.axis_1\"/>\n   <g id=\"matplotlib.axis_2\"/>\n   <g id=\"patch_3\">\n    <path d=\"M 10.7 79.982609 \nL 10.7 7.2 \n\" style=\"fill:none;stroke:#000000;stroke-linecap:square;stroke-linejoin:miter;stroke-width:0.8;\"/>\n   </g>\n   <g id=\"patch_4\">\n    <path d=\"M 83.482609 79.982609 \nL 83.482609 7.2 \n\" style=\"fill:none;stroke:#000000;stroke-linecap:square;stroke-linejoin:miter;stroke-width:0.8;\"/>\n   </g>\n   <g id=\"patch_5\">\n    <path d=\"M 10.7 79.982609 \nL 83.482609 79.982609 \n\" style=\"fill:none;stroke:#000000;stroke-linecap:square;stroke-linejoin:miter;stroke-width:0.8;\"/>\n   </g>\n   <g id=\"patch_6\">\n    <path d=\"M 10.7 7.2 \nL 83.482609 7.2 \n\" style=\"fill:none;stroke:#000000;stroke-linecap:square;stroke-linejoin:miter;stroke-width:0.8;\"/>\n   </g>\n  </g>\n  <g id=\"axes_2\">\n   <g id=\"patch_7\">\n    <path d=\"M 98.03913 79.982609 \nL 170.821739 79.982609 \nL 170.821739 7.2 \nL 98.03913 7.2 \nz\n\" style=\"fill:#ffffff;\"/>\n   </g>\n   <g clip-path=\"url(#pac80154460)\">\n    <image height=\"73\" id=\"image632e50023b\" transform=\"scale(1 -1)translate(0 -73)\" width=\"73\" x=\"98.03913\" xlink:href=\"data:image/png;base64,\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\" y=\"-6.982609\"/>\n   </g>\n   <g id=\"matplotlib.axis_3\"/>\n   <g id=\"matplotlib.axis_4\"/>\n   <g id=\"patch_8\">\n    <path d=\"M 98.03913 79.982609 \nL 98.03913 7.2 \n\" style=\"fill:none;stroke:#000000;stroke-linecap:square;stroke-linejoin:miter;stroke-width:0.8;\"/>\n   </g>\n   <g id=\"patch_9\">\n    <path d=\"M 170.821739 79.982609 \nL 170.821739 7.2 \n\" style=\"fill:none;stroke:#000000;stroke-linecap:square;stroke-linejoin:miter;stroke-width:0.8;\"/>\n   </g>\n   <g id=\"patch_10\">\n    <path d=\"M 98.03913 79.982609 \nL 170.821739 79.982609 \n\" style=\"fill:none;stroke:#000000;stroke-linecap:square;stroke-linejoin:miter;stroke-width:0.8;\"/>\n   </g>\n   <g id=\"patch_11\">\n    <path d=\"M 98.03913 7.2 \nL 170.821739 7.2 \n\" style=\"fill:none;stroke:#000000;stroke-linecap:square;stroke-linejoin:miter;stroke-width:0.8;\"/>\n   </g>\n  </g>\n  <g id=\"axes_3\">\n   <g id=\"patch_12\">\n    <path d=\"M 185.378261 79.982609 \nL 258.16087 79.982609 \nL 258.16087 7.2 \nL 185.378261 7.2 \nz\n\" style=\"fill:#ffffff;\"/>\n   </g>\n   <g clip-path=\"url(#pbd4c63d86f)\">\n    <image height=\"73\" id=\"image3118a3f41b\" transform=\"scale(1 -1)translate(0 -73)\" width=\"73\" x=\"185.378261\" xlink:href=\"data:image/png;base64,\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\" y=\"-6.982609\"/>\n   </g>\n   <g id=\"matplotlib.axis_5\"/>\n   <g id=\"matplotlib.axis_6\"/>\n   <g id=\"patch_13\">\n    <path d=\"M 185.378261 79.982609 \nL 185.378261 7.2 \n\" style=\"fill:none;stroke:#000000;stroke-linecap:square;stroke-linejoin:miter;stroke-width:0.8;\"/>\n   </g>\n   <g id=\"patch_14\">\n    <path d=\"M 258.16087 79.982609 \nL 258.16087 7.2 \n\" style=\"fill:none;stroke:#000000;stroke-linecap:square;stroke-linejoin:miter;stroke-width:0.8;\"/>\n   </g>\n   <g id=\"patch_15\">\n    <path d=\"M 185.378261 79.982609 \nL 258.16087 79.982609 \n\" style=\"fill:none;stroke:#000000;stroke-linecap:square;stroke-linejoin:miter;stroke-width:0.8;\"/>\n   </g>\n   <g id=\"patch_16\">\n    <path d=\"M 185.378261 7.2 \nL 258.16087 7.2 \n\" style=\"fill:none;stroke:#000000;stroke-linecap:square;stroke-linejoin:miter;stroke-width:0.8;\"/>\n   </g>\n  </g>\n  <g id=\"axes_4\">\n   <g id=\"patch_17\">\n    <path d=\"M 272.717391 79.982609 \nL 345.5 79.982609 \nL 345.5 7.2 \nL 272.717391 7.2 \nz\n\" style=\"fill:#ffffff;\"/>\n   </g>\n   <g clip-path=\"url(#pf1e4c20701)\">\n    <image height=\"73\" id=\"image778a248701\" transform=\"scale(1 -1)translate(0 -73)\" width=\"73\" x=\"272.717391\" xlink:href=\"data:image/png;base64,\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\" y=\"-6.982609\"/>\n   </g>\n   <g id=\"matplotlib.axis_7\"/>\n   <g id=\"matplotlib.axis_8\"/>\n   <g id=\"patch_18\">\n    <path d=\"M 272.717391 79.982609 \nL 272.717391 7.2 \n\" style=\"fill:none;stroke:#000000;stroke-linecap:square;stroke-linejoin:miter;stroke-width:0.8;\"/>\n   </g>\n   <g id=\"patch_19\">\n    <path d=\"M 345.5 79.982609 \nL 345.5 7.2 \n\" style=\"fill:none;stroke:#000000;stroke-linecap:square;stroke-linejoin:miter;stroke-width:0.8;\"/>\n   </g>\n   <g id=\"patch_20\">\n    <path d=\"M 272.717391 79.982609 \nL 345.5 79.982609 \n\" style=\"fill:none;stroke:#000000;stroke-linecap:square;stroke-linejoin:miter;stroke-width:0.8;\"/>\n   </g>\n   <g id=\"patch_21\">\n    <path d=\"M 272.717391 7.2 \nL 345.5 7.2 \n\" style=\"fill:none;stroke:#000000;stroke-linecap:square;stroke-linejoin:miter;stroke-width:0.8;\"/>\n   </g>\n  </g>\n </g>\n <defs>\n  <clipPath id=\"p362ce73a78\">\n   <rect height=\"72.782609\" width=\"72.782609\" x=\"10.7\" y=\"7.2\"/>\n  </clipPath>\n  <clipPath id=\"pac80154460\">\n   <rect height=\"72.782609\" width=\"72.782609\" x=\"98.03913\" y=\"7.2\"/>\n  </clipPath>\n  <clipPath id=\"pbd4c63d86f\">\n   <rect height=\"72.782609\" width=\"72.782609\" x=\"185.378261\" y=\"7.2\"/>\n  </clipPath>\n  <clipPath id=\"pf1e4c20701\">\n   <rect height=\"72.782609\" width=\"72.782609\" x=\"272.717391\" y=\"7.2\"/>\n  </clipPath>\n </defs>\n</svg>\n",
      "image/png": "[encoded data removed]"
     },
     "metadata": {}
    }
   ],
   "source": [
    "def plt_digit(x):\n",
    "    nrow = 28\n",
    "    ncol = 28\n",
    "    xsq = x.reshape((nrow,ncol))\n",
    "    plt.imshow(xsq,  cmap='Greys_r')\n",
    "    plt.xticks([])\n",
    "    plt.yticks([])\n",
    "\n",
    "# Select random digits\n",
    "nplt = 4\n",
    "Iperm = np.random.permutation(ntr)\n",
    "\n",
    "# Plot the images using the subplot command\n",
    "for i in range(nplt):\n",
    "    ind = Iperm[i]\n",
    "    plt.subplot(1,nplt,i+1)\n",
    "    plt_digit(Xtr[ind,:])"
   ]
  },
  {
   "cell_type": "markdown",
   "metadata": {},
   "source": [
    "## Trying a Logistic Regression Classifier\n",
    "\n",
    "To classify the digits, we will first use a logistic classifier.  We select a small number of samples for training. Generally, you would use more training samples, but the optimizer is very slow.  "
   ]
  },
  {
   "cell_type": "code",
   "execution_count": 7,
   "metadata": {},
   "outputs": [],
   "source": [
    "ntr1 = 5000\n",
    "Xtr1 = Xtr[Iperm[:ntr1],:]\n",
    "ytr1 = ytr[Iperm[:ntr1]]"
   ]
  },
  {
   "cell_type": "markdown",
   "metadata": {},
   "source": [
    "Now we run the optimizer.  I have placed the `verbose=10` option so that you can see the progress.  It may not appear in the browser but in the command line where you launched jupyter notebook.  This can take several minutes and will likely say that it ran out of iterations."
   ]
  },
  {
   "cell_type": "code",
   "execution_count": 8,
   "metadata": {},
   "outputs": [
    {
     "output_type": "stream",
     "name": "stderr",
     "text": [
      "[Parallel(n_jobs=1)]: Using backend SequentialBackend with 1 concurrent workers.\n",
      "[Parallel(n_jobs=1)]: Done   1 out of   1 | elapsed:    5.8s remaining:    0.0s\n",
      "[Parallel(n_jobs=1)]: Done   1 out of   1 | elapsed:    5.8s finished\n"
     ]
    },
    {
     "output_type": "execute_result",
     "data": {
      "text/plain": [
       "LogisticRegression(max_iter=500, multi_class='multinomial', verbose=10)"
      ]
     },
     "metadata": {},
     "execution_count": 8
    }
   ],
   "source": [
    "from sklearn import linear_model\n",
    "logreg = linear_model.LogisticRegression(verbose=10, solver='lbfgs',\\\n",
    "                                         multi_class='multinomial',max_iter=500)\n",
    "logreg.fit(Xtr1,ytr1)"
   ]
  },
  {
   "cell_type": "markdown",
   "metadata": {
    "collapsed": true
   },
   "source": [
    "Before continuing, since it takes so long to run the optimizer, let's save the results in a file.  You can use `pickle` module for this purpose."
   ]
  },
  {
   "cell_type": "code",
   "execution_count": 9,
   "metadata": {},
   "outputs": [],
   "source": [
    "import pickle\n",
    "\n",
    "with open( \"mnist_logreg.p\", \"wb\" ) as fp:\n",
    "    pickle.dump( [logreg, Xtr1, ytr1, Iperm],  fp)"
   ]
  },
  {
   "cell_type": "markdown",
   "metadata": {},
   "source": [
    "Then, we can recover the objects via the `pickle.load` command"
   ]
  },
  {
   "cell_type": "code",
   "execution_count": 8,
   "metadata": {},
   "outputs": [],
   "source": [
    "with open( \"mnist_logreg.p\", \"rb\" ) as fp:\n",
    "    logreg, Xtr1, ytr1, Iperm = pickle.load(fp)"
   ]
  },
  {
   "cell_type": "markdown",
   "metadata": {},
   "source": [
    "Now, we can measure the accuracy on the test data.  Again, we will test on a small sub-sample."
   ]
  },
  {
   "cell_type": "code",
   "execution_count": 10,
   "metadata": {},
   "outputs": [
    {
     "name": "stdout",
     "output_type": "stream",
     "text": [
      "Accuaracy = 0.888600\n"
     ]
    }
   ],
   "source": [
    "nts1 = 5000\n",
    "Iperm_ts = np.random.permutation(nts) \n",
    "Xts1 = Xts[Iperm_ts[:nts1],:]\n",
    "yts1 = yts[Iperm_ts[:nts1]]\n",
    "yhat = logreg.predict(Xts1)\n",
    "acc = np.mean(yhat == yts1)\n",
    "print('Accuaracy = {0:f}'.format(acc))"
   ]
  },
  {
   "cell_type": "markdown",
   "metadata": {},
   "source": [
    "You should get an accuracy of around 89%.  This may sounds OK, but it is actually very poor.  Had we increased the number of training samples, it would have improved to about 92%, but that is still very bad.  To illustrate, let's plot some of the errors.  "
   ]
  },
  {
   "cell_type": "code",
   "execution_count": 11,
   "metadata": {},
   "outputs": [
    {
     "data": {
      "image/png": "[encoded data removed]",
      "text/plain": [
       "<Figure size 720x288 with 4 Axes>"
      ]
     },
     "metadata": {},
     "output_type": "display_data"
    }
   ],
   "source": [
    "nplt = 4\n",
    "Ierr = np.where(yts1 != yhat)[0]\n",
    "\n",
    "plt.figure(figsize=(10, 4))\n",
    "for i in range(nplt):        \n",
    "    plt.subplot(1,nplt,i+1)        \n",
    "    ind = Ierr[i]    \n",
    "    plt_digit(Xts1[ind,:])        \n",
    "    title = 'true={0:d} est={1:d}'.format(yts1[ind].astype(int), yhat[ind].astype(int))\n",
    "    plt.title(title)"
   ]
  },
  {
   "cell_type": "markdown",
   "metadata": {},
   "source": [
    "Obviously, some of these digits are very easy to classify for a human.  We can get more fine-grained analysis of the digit errors by computing the confusion matrix."
   ]
  },
  {
   "cell_type": "code",
   "execution_count": 12,
   "metadata": {},
   "outputs": [
    {
     "name": "stdout",
     "output_type": "stream",
     "text": [
      "[[0.944 0.    0.011 0.004 0.002 0.013 0.015 0.002 0.006 0.002]\n",
      " [0.    0.975 0.007 0.002 0.    0.004 0.002 0.    0.012 0.   ]\n",
      " [0.019 0.018 0.845 0.029 0.014 0.007 0.011 0.014 0.047 0.008]\n",
      " [0.004 0.004 0.021 0.875 0.002 0.051 0.    0.012 0.031 0.008]\n",
      " [0.002 0.004 0.015 0.    0.893 0.009 0.011 0.006 0.01  0.048]\n",
      " [0.012 0.007 0.004 0.029 0.008 0.839 0.022 0.01  0.045 0.008]\n",
      " [0.008 0.002 0.015 0.002 0.019 0.034 0.909 0.002 0.004 0.002]\n",
      " [0.    0.007 0.024 0.008 0.002 0.002 0.    0.905 0.004 0.048]\n",
      " [0.008 0.009 0.013 0.043 0.019 0.029 0.015 0.017 0.82  0.024]\n",
      " [0.015 0.009 0.004 0.006 0.043 0.007 0.002 0.037 0.01  0.869]]\n"
     ]
    },
    {
     "data": {
      "text/plain": [
       "<matplotlib.colorbar.Colorbar at 0x2589a43d3c8>"
      ]
     },
     "execution_count": 12,
     "metadata": {},
     "output_type": "execute_result"
    },
    {
     "data": {
      "image/png": "[encoded data removed]",
      "text/plain": [
       "<Figure size 432x288 with 2 Axes>"
      ]
     },
     "metadata": {
      "needs_background": "light"
     },
     "output_type": "display_data"
    }
   ],
   "source": [
    "from sklearn.metrics import confusion_matrix\n",
    "C = confusion_matrix(yts1,yhat)\n",
    "\n",
    "# Normalize the confusion matrix\n",
    "Csum = np.sum(C,1)\n",
    "C = C / Csum[None,:]\n",
    "\n",
    "# Print the confusion matrix\n",
    "print(np.array_str(C, precision=3, suppress_small=True))\n",
    "plt.imshow(C, interpolation='none')\n",
    "plt.colorbar()"
   ]
  },
  {
   "cell_type": "markdown",
   "metadata": {},
   "source": [
    "## Visualizing the Weights\n",
    "\n",
    "To see the problem with the logistic classifier, it is useful to plot the weights for each digit.  "
   ]
  },
  {
   "cell_type": "code",
   "execution_count": 12,
   "metadata": {},
   "outputs": [
    {
     "output_type": "display_data",
     "data": {
      "text/plain": "<Figure size 720x432 with 10 Axes>",
      "image/svg+xml": "<?xml version=\"1.0\" encoding=\"utf-8\" standalone=\"no\"?>\n<!DOCTYPE svg PUBLIC \"-//W3C//DTD SVG 1.1//EN\"\n  \"http://www.w3.org/Graphics/SVG/1.1/DTD/svg11.dtd\">\n<!-- Created with matplotlib (https://matplotlib.org/) -->\n<svg height=\"307.130476pt\" version=\"1.1\" viewBox=\"0 0 575.9 307.130476\" width=\"575.9pt\" xmlns=\"http://www.w3.org/2000/svg\" xmlns:xlink=\"http://www.w3.org/1999/xlink\">\n <metadata>\n  <rdf:RDF xmlns:cc=\"http://creativecommons.org/ns#\" xmlns:dc=\"http://purl.org/dc/elements/1.1/\" xmlns:rdf=\"http://www.w3.org/1999/02/22-rdf-syntax-ns#\">\n   <cc:Work>\n    <dc:type rdf:resource=\"http://purl.org/dc/dcmitype/StillImage\"/>\n    <dc:date>2020-10-25T21:32:45.861821</dc:date>\n    <dc:format>image/svg+xml</dc:format>\n    <dc:creator>\n     <cc:Agent>\n      <dc:title>Matplotlib v3.3.1, https://matplotlib.org/</dc:title>\n     </cc:Agent>\n    </dc:creator>\n   </cc:Work>\n  </rdf:RDF>\n </metadata>\n <defs>\n  <style type=\"text/css\">*{stroke-linecap:butt;stroke-linejoin:round;}</style>\n </defs>\n <g id=\"figure_1\">\n  <g id=\"patch_1\">\n   <path d=\"M 0 307.130476 \nL 575.9 307.130476 \nL 575.9 0 \nL 0 0 \nz\n\" style=\"fill:none;\"/>\n  </g>\n  <g id=\"axes_1\">\n   <g id=\"patch_2\">\n    <path d=\"M 10.7 118.525022 \nL 106.906897 118.525022 \nL 106.906897 22.318125 \nL 10.7 22.318125 \nz\n\" style=\"fill:#ffffff;\"/>\n   </g>\n   <g clip-path=\"url(#pd4d4a827b2)\">\n    <image height=\"97\" id=\"imageefe3b45533\" transform=\"scale(1 -1)translate(0 -97)\" width=\"97\" x=\"10.7\" xlink:href=\"data:image/png;base64,\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\" y=\"-21.525022\"/>\n   </g>\n   <g id=\"matplotlib.axis_1\"/>\n   <g id=\"matplotlib.axis_2\"/>\n   <g id=\"patch_3\">\n    <path d=\"M 10.7 118.525022 \nL 10.7 22.318125 \n\" style=\"fill:none;stroke:#000000;stroke-linecap:square;stroke-linejoin:miter;stroke-width:0.8;\"/>\n   </g>\n   <g id=\"patch_4\">\n    <path d=\"M 106.906897 118.525022 \nL 106.906897 22.318125 \n\" style=\"fill:none;stroke:#000000;stroke-linecap:square;stroke-linejoin:miter;stroke-width:0.8;\"/>\n   </g>\n   <g id=\"patch_5\">\n    <path d=\"M 10.7 118.525022 \nL 106.906897 118.525022 \n\" style=\"fill:none;stroke:#000000;stroke-linecap:square;stroke-linejoin:miter;stroke-width:0.8;\"/>\n   </g>\n   <g id=\"patch_6\">\n    <path d=\"M 10.7 22.318125 \nL 106.906897 22.318125 \n\" style=\"fill:none;stroke:#000000;stroke-linecap:square;stroke-linejoin:miter;stroke-width:0.8;\"/>\n   </g>\n   <g id=\"text_1\">\n    <!-- 0 -->\n    <g transform=\"translate(54.985948 16.318125)scale(0.12 -0.12)\">\n     <defs>\n      <path d=\"M 31.78125 66.40625 \nQ 24.171875 66.40625 20.328125 58.90625 \nQ 16.5 51.421875 16.5 36.375 \nQ 16.5 21.390625 20.328125 13.890625 \nQ 24.171875 6.390625 31.78125 6.390625 \nQ 39.453125 6.390625 43.28125 13.890625 \nQ 47.125 21.390625 47.125 36.375 \nQ 47.125 51.421875 43.28125 58.90625 \nQ 39.453125 66.40625 31.78125 66.40625 \nz\nM 31.78125 74.21875 \nQ 44.046875 74.21875 50.515625 64.515625 \nQ 56.984375 54.828125 56.984375 36.375 \nQ 56.984375 17.96875 50.515625 8.265625 \nQ 44.046875 -1.421875 31.78125 -1.421875 \nQ 19.53125 -1.421875 13.0625 8.265625 \nQ 6.59375 17.96875 6.59375 36.375 \nQ 6.59375 54.828125 13.0625 64.515625 \nQ 19.53125 74.21875 31.78125 74.21875 \nz\n\" id=\"DejaVuSans-48\"/>\n     </defs>\n     <use xlink:href=\"#DejaVuSans-48\"/>\n    </g>\n   </g>\n  </g>\n  <g id=\"axes_2\">\n   <g id=\"patch_7\">\n    <path d=\"M 126.148276 118.525022 \nL 222.355172 118.525022 \nL 222.355172 22.318125 \nL 126.148276 22.318125 \nz\n\" style=\"fill:#ffffff;\"/>\n   </g>\n   <g clip-path=\"url(#p69e90aec73)\">\n    <image height=\"97\" id=\"image51b825b829\" transform=\"scale(1 -1)translate(0 -97)\" width=\"97\" x=\"126.148276\" xlink:href=\"data:image/png;base64,\niVBORw0KGgoAAAANSUhEUgAAAGEAAABhCAYAAADGBs+jAAAFgElEQVR4nO1duU4tSww0+76KTUIgJCAkICDmC/kyAkRCgITEvgoQ+w4v61ddOuM3jM5wfXlVkUdupufIuNrttmda1tbWvkz4o2j90w8gyAgh0F73BF9fX4XXVXUtLS2F86GOx7W2Fv/PefesG/KEAJARAkBGCIBa1oTPz8+GspnZx8dHkt/e3jLd+/t7w3EM5Hbm8ra2toaymVl7+78/l9cH7551rxfyhACQEQKg9hCVaeXl5aWhbGb2+vqaZKYqDFGRVjzKYXR0dCS5s7OzUPfTVCVPCAAZIQBkhACovCZ4aQTUMWf39vYW6pCXOW2B6wfOx2sAhsS85uA6w2tOd3d3kru6uqwIdaQ+5AkBICMEQGk6YnpAt8edrpkfanr3RFdnqkIdhr04l5nZ09NTkm9ubgrnZsoZGBhIcl9fX+FYDm35ORFl6UmeEAAyQgDICAFQeU1AXuZQ8O7urlCHwJDULOdiDGXNzPr7+xve8/7+Phv38PCQ5NPT00yHa9fQ0FCmw7WLM79eOI7X3vrgQZ4QADJCAFTeMXt0hNdITWa5+zLlDA4OJnl0dDTTjYyMJBmpY29vLxt3eHiY5Ovr60z3+PiYZA5tkUqYJnFXzjt0/DuvsMALV+UJASAjBICMEABNyaJ6KQ3voJ9TADiWUwczMzNJxjQCz72zs5NkXAPM8nDWy+5iRtXMrKenJ8mcosHfoxD1L4aMEACV6cir78FrDunQfTHjaZaHs7wTRrqYmJhIMu6QzXIa4yIDDG29sJopx6uHQgplaiwLeUIAyAgBICMEQOk1wduSM+97xVnIqcznyK8HBweZbmlpKcmzs7NJnpyczMZheMmnel7oXFXnoWxPhTwhAGSEAGgKHXEtjpdZRDq6vb3NdJeXl4Xzb29vJ3lxcTHJfDiD1xyG4g6ad+Rls6EMLyzVQf9fBBkhAGSEAGhKf4J3+M2ciWEjpybw+vn5OdPNzc0leXV1NcnDw8PZuOnp6SRz+gHXBNYhOOQue0JWFfKEAJARAuDH6cgrEMCsKu929/f3G44bGxvLxs3Pzxfqzs/PC+/v1cHiNYerZd8u4EGeEAAyQgDICAFQ+5rwnZAOx/IJFhZyobywsJCNw4KAlZWVTLe7u1s4t5cdxedSu9QvhYwQALV09Hvu69V1el2ZGCZeXFwUjsOwlOlofX09ybxbxx0076a9Qx119P8SyAgBULlTx4PXvYL0wSXoZV376uoqyXxOjWfMeC5tZra8vJzkjY2NTOd1hOI1R21Va40Q8oQAkBECQEYIgKaUxnv4ToEA3pN5GUNK7Mo8OzvLxk1NTSUZu/TN8oOh4+PjTOe1UnlrgleLijpvpy1PCAAZIQCasmP2qMmrSeJOHQSfMWNN0tHRUZK3traycbjb5U4d7LgZHx/PdCcnJ4XP4u2YvY6lspAnBICMEAAyQgBUXhO8gxuvlQpTFdzRj5ztvbQE+XtzczMbh6Esh5p4uM+1qPjGAE6nlK1F9T434EGeEAAyQgBULo0vewDDYShmOXlHiwcyXn0Php4cWiKN8T3w77hhHOdmGkGa5N+jQ51fAhkhAGSEAGhKiMrciyEev3/U67jHe/J6gekCDCd5bgxLOdTEa65TLduZ793zO3WqCHlCAMgIAVA7HbFre3/nha9FO23u3kSdRwccanofUkKdR6FVvzIiTwgAGSEAZIQAaMrJmheaeesF87L3cqeiF1l5nZbeV0YYGErzOJyb61RV/PVLICMEQO2l8d4XQTy68F7liRTA9OB9uaToOfg5v6NrBuQJASAjBICMEAC1fwCV4W3zkW859CtKhTQjRPyv59L3mP8HkBEC4MfpqCya8eKOvwXyhACQEQJARggAGSEAZIQAkBEC4B9E2HMPi73AhgAAAABJRU5ErkJggg==\" y=\"-21.525022\"/>\n   </g>\n   <g id=\"matplotlib.axis_3\"/>\n   <g id=\"matplotlib.axis_4\"/>\n   <g id=\"patch_8\">\n    <path d=\"M 126.148276 118.525022 \nL 126.148276 22.318125 \n\" style=\"fill:none;stroke:#000000;stroke-linecap:square;stroke-linejoin:miter;stroke-width:0.8;\"/>\n   </g>\n   <g id=\"patch_9\">\n    <path d=\"M 222.355172 118.525022 \nL 222.355172 22.318125 \n\" style=\"fill:none;stroke:#000000;stroke-linecap:square;stroke-linejoin:miter;stroke-width:0.8;\"/>\n   </g>\n   <g id=\"patch_10\">\n    <path d=\"M 126.148276 118.525022 \nL 222.355172 118.525022 \n\" style=\"fill:none;stroke:#000000;stroke-linecap:square;stroke-linejoin:miter;stroke-width:0.8;\"/>\n   </g>\n   <g id=\"patch_11\">\n    <path d=\"M 126.148276 22.318125 \nL 222.355172 22.318125 \n\" style=\"fill:none;stroke:#000000;stroke-linecap:square;stroke-linejoin:miter;stroke-width:0.8;\"/>\n   </g>\n   <g id=\"text_2\">\n    <!-- 1 -->\n    <g transform=\"translate(170.434224 16.318125)scale(0.12 -0.12)\">\n     <defs>\n      <path d=\"M 12.40625 8.296875 \nL 28.515625 8.296875 \nL 28.515625 63.921875 \nL 10.984375 60.40625 \nL 10.984375 69.390625 \nL 28.421875 72.90625 \nL 38.28125 72.90625 \nL 38.28125 8.296875 \nL 54.390625 8.296875 \nL 54.390625 0 \nL 12.40625 0 \nz\n\" id=\"DejaVuSans-49\"/>\n     </defs>\n     <use xlink:href=\"#DejaVuSans-49\"/>\n    </g>\n   </g>\n  </g>\n  <g id=\"axes_3\">\n   <g id=\"patch_12\">\n    <path d=\"M 241.596552 118.525022 \nL 337.803448 118.525022 \nL 337.803448 22.318125 \nL 241.596552 22.318125 \nz\n\" style=\"fill:#ffffff;\"/>\n   </g>\n   <g clip-path=\"url(#p92fccf13c8)\">\n    <image height=\"97\" id=\"image65a9ad06c1\" transform=\"scale(1 -1)translate(0 -97)\" width=\"97\" x=\"241.596552\" xlink:href=\"data:image/png;base64,\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\" y=\"-21.525022\"/>\n   </g>\n   <g id=\"matplotlib.axis_5\"/>\n   <g id=\"matplotlib.axis_6\"/>\n   <g id=\"patch_13\">\n    <path d=\"M 241.596552 118.525022 \nL 241.596552 22.318125 \n\" style=\"fill:none;stroke:#000000;stroke-linecap:square;stroke-linejoin:miter;stroke-width:0.8;\"/>\n   </g>\n   <g id=\"patch_14\">\n    <path d=\"M 337.803448 118.525022 \nL 337.803448 22.318125 \n\" style=\"fill:none;stroke:#000000;stroke-linecap:square;stroke-linejoin:miter;stroke-width:0.8;\"/>\n   </g>\n   <g id=\"patch_15\">\n    <path d=\"M 241.596552 118.525022 \nL 337.803448 118.525022 \n\" style=\"fill:none;stroke:#000000;stroke-linecap:square;stroke-linejoin:miter;stroke-width:0.8;\"/>\n   </g>\n   <g id=\"patch_16\">\n    <path d=\"M 241.596552 22.318125 \nL 337.803448 22.318125 \n\" style=\"fill:none;stroke:#000000;stroke-linecap:square;stroke-linejoin:miter;stroke-width:0.8;\"/>\n   </g>\n   <g id=\"text_3\">\n    <!-- 2 -->\n    <g transform=\"translate(285.8825 16.318125)scale(0.12 -0.12)\">\n     <defs>\n      <path d=\"M 19.1875 8.296875 \nL 53.609375 8.296875 \nL 53.609375 0 \nL 7.328125 0 \nL 7.328125 8.296875 \nQ 12.9375 14.109375 22.625 23.890625 \nQ 32.328125 33.6875 34.8125 36.53125 \nQ 39.546875 41.84375 41.421875 45.53125 \nQ 43.3125 49.21875 43.3125 52.78125 \nQ 43.3125 58.59375 39.234375 62.25 \nQ 35.15625 65.921875 28.609375 65.921875 \nQ 23.96875 65.921875 18.8125 64.3125 \nQ 13.671875 62.703125 7.8125 59.421875 \nL 7.8125 69.390625 \nQ 13.765625 71.78125 18.9375 73 \nQ 24.125 74.21875 28.421875 74.21875 \nQ 39.75 74.21875 46.484375 68.546875 \nQ 53.21875 62.890625 53.21875 53.421875 \nQ 53.21875 48.921875 51.53125 44.890625 \nQ 49.859375 40.875 45.40625 35.40625 \nQ 44.1875 33.984375 37.640625 27.21875 \nQ 31.109375 20.453125 19.1875 8.296875 \nz\n\" id=\"DejaVuSans-50\"/>\n     </defs>\n     <use xlink:href=\"#DejaVuSans-50\"/>\n    </g>\n   </g>\n  </g>\n  <g id=\"axes_4\">\n   <g id=\"patch_17\">\n    <path d=\"M 357.044828 118.525022 \nL 453.251724 118.525022 \nL 453.251724 22.318125 \nL 357.044828 22.318125 \nz\n\" style=\"fill:#ffffff;\"/>\n   </g>\n   <g clip-path=\"url(#pb2a8bde048)\">\n    <image height=\"97\" id=\"image956f244286\" transform=\"scale(1 -1)translate(0 -97)\" width=\"97\" x=\"357.044828\" xlink:href=\"data:image/png;base64,\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\" y=\"-21.525022\"/>\n   </g>\n   <g id=\"matplotlib.axis_7\"/>\n   <g id=\"matplotlib.axis_8\"/>\n   <g id=\"patch_18\">\n    <path d=\"M 357.044828 118.525022 \nL 357.044828 22.318125 \n\" style=\"fill:none;stroke:#000000;stroke-linecap:square;stroke-linejoin:miter;stroke-width:0.8;\"/>\n   </g>\n   <g id=\"patch_19\">\n    <path d=\"M 453.251724 118.525022 \nL 453.251724 22.318125 \n\" style=\"fill:none;stroke:#000000;stroke-linecap:square;stroke-linejoin:miter;stroke-width:0.8;\"/>\n   </g>\n   <g id=\"patch_20\">\n    <path d=\"M 357.044828 118.525022 \nL 453.251724 118.525022 \n\" style=\"fill:none;stroke:#000000;stroke-linecap:square;stroke-linejoin:miter;stroke-width:0.8;\"/>\n   </g>\n   <g id=\"patch_21\">\n    <path d=\"M 357.044828 22.318125 \nL 453.251724 22.318125 \n\" style=\"fill:none;stroke:#000000;stroke-linecap:square;stroke-linejoin:miter;stroke-width:0.8;\"/>\n   </g>\n   <g id=\"text_4\">\n    <!-- 3 -->\n    <g transform=\"translate(401.330776 16.318125)scale(0.12 -0.12)\">\n     <defs>\n      <path d=\"M 40.578125 39.3125 \nQ 47.65625 37.796875 51.625 33 \nQ 55.609375 28.21875 55.609375 21.1875 \nQ 55.609375 10.40625 48.1875 4.484375 \nQ 40.765625 -1.421875 27.09375 -1.421875 \nQ 22.515625 -1.421875 17.65625 -0.515625 \nQ 12.796875 0.390625 7.625 2.203125 \nL 7.625 11.71875 \nQ 11.71875 9.328125 16.59375 8.109375 \nQ 21.484375 6.890625 26.8125 6.890625 \nQ 36.078125 6.890625 40.9375 10.546875 \nQ 45.796875 14.203125 45.796875 21.1875 \nQ 45.796875 27.640625 41.28125 31.265625 \nQ 36.765625 34.90625 28.71875 34.90625 \nL 20.21875 34.90625 \nL 20.21875 43.015625 \nL 29.109375 43.015625 \nQ 36.375 43.015625 40.234375 45.921875 \nQ 44.09375 48.828125 44.09375 54.296875 \nQ 44.09375 59.90625 40.109375 62.90625 \nQ 36.140625 65.921875 28.71875 65.921875 \nQ 24.65625 65.921875 20.015625 65.03125 \nQ 15.375 64.15625 9.8125 62.3125 \nL 9.8125 71.09375 \nQ 15.4375 72.65625 20.34375 73.4375 \nQ 25.25 74.21875 29.59375 74.21875 \nQ 40.828125 74.21875 47.359375 69.109375 \nQ 53.90625 64.015625 53.90625 55.328125 \nQ 53.90625 49.265625 50.4375 45.09375 \nQ 46.96875 40.921875 40.578125 39.3125 \nz\n\" id=\"DejaVuSans-51\"/>\n     </defs>\n     <use xlink:href=\"#DejaVuSans-51\"/>\n    </g>\n   </g>\n  </g>\n  <g id=\"axes_5\">\n   <g id=\"patch_22\">\n    <path d=\"M 472.493103 118.525022 \nL 568.7 118.525022 \nL 568.7 22.318125 \nL 472.493103 22.318125 \nz\n\" style=\"fill:#ffffff;\"/>\n   </g>\n   <g clip-path=\"url(#pa0549aad61)\">\n    <image height=\"97\" id=\"image91b90be8bf\" transform=\"scale(1 -1)translate(0 -97)\" width=\"97\" x=\"472.493103\" xlink:href=\"data:image/png;base64,\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\" y=\"-21.525022\"/>\n   </g>\n   <g id=\"matplotlib.axis_9\"/>\n   <g id=\"matplotlib.axis_10\"/>\n   <g id=\"patch_23\">\n    <path d=\"M 472.493103 118.525022 \nL 472.493103 22.318125 \n\" style=\"fill:none;stroke:#000000;stroke-linecap:square;stroke-linejoin:miter;stroke-width:0.8;\"/>\n   </g>\n   <g id=\"patch_24\">\n    <path d=\"M 568.7 118.525022 \nL 568.7 22.318125 \n\" style=\"fill:none;stroke:#000000;stroke-linecap:square;stroke-linejoin:miter;stroke-width:0.8;\"/>\n   </g>\n   <g id=\"patch_25\">\n    <path d=\"M 472.493103 118.525022 \nL 568.7 118.525022 \n\" style=\"fill:none;stroke:#000000;stroke-linecap:square;stroke-linejoin:miter;stroke-width:0.8;\"/>\n   </g>\n   <g id=\"patch_26\">\n    <path d=\"M 472.493103 22.318125 \nL 568.7 22.318125 \n\" style=\"fill:none;stroke:#000000;stroke-linecap:square;stroke-linejoin:miter;stroke-width:0.8;\"/>\n   </g>\n   <g id=\"text_5\">\n    <!-- 4 -->\n    <g transform=\"translate(516.779052 16.318125)scale(0.12 -0.12)\">\n     <defs>\n      <path d=\"M 37.796875 64.3125 \nL 12.890625 25.390625 \nL 37.796875 25.390625 \nz\nM 35.203125 72.90625 \nL 47.609375 72.90625 \nL 47.609375 25.390625 \nL 58.015625 25.390625 \nL 58.015625 17.1875 \nL 47.609375 17.1875 \nL 47.609375 0 \nL 37.796875 0 \nL 37.796875 17.1875 \nL 4.890625 17.1875 \nL 4.890625 26.703125 \nz\n\" id=\"DejaVuSans-52\"/>\n     </defs>\n     <use xlink:href=\"#DejaVuSans-52\"/>\n    </g>\n   </g>\n  </g>\n  <g id=\"axes_6\">\n   <g id=\"patch_27\">\n    <path d=\"M 10.7 296.430476 \nL 106.906897 296.430476 \nL 106.906897 200.22358 \nL 10.7 200.22358 \nz\n\" style=\"fill:#ffffff;\"/>\n   </g>\n   <g clip-path=\"url(#p6df33bf4cb)\">\n    <image height=\"97\" id=\"image4313f248be\" transform=\"scale(1 -1)translate(0 -97)\" width=\"97\" x=\"10.7\" xlink:href=\"data:image/png;base64,\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\" y=\"-199.430476\"/>\n   </g>\n   <g id=\"matplotlib.axis_11\"/>\n   <g id=\"matplotlib.axis_12\"/>\n   <g id=\"patch_28\">\n    <path d=\"M 10.7 296.430476 \nL 10.7 200.22358 \n\" style=\"fill:none;stroke:#000000;stroke-linecap:square;stroke-linejoin:miter;stroke-width:0.8;\"/>\n   </g>\n   <g id=\"patch_29\">\n    <path d=\"M 106.906897 296.430476 \nL 106.906897 200.22358 \n\" style=\"fill:none;stroke:#000000;stroke-linecap:square;stroke-linejoin:miter;stroke-width:0.8;\"/>\n   </g>\n   <g id=\"patch_30\">\n    <path d=\"M 10.7 296.430476 \nL 106.906897 296.430476 \n\" style=\"fill:none;stroke:#000000;stroke-linecap:square;stroke-linejoin:miter;stroke-width:0.8;\"/>\n   </g>\n   <g id=\"patch_31\">\n    <path d=\"M 10.7 200.22358 \nL 106.906897 200.22358 \n\" style=\"fill:none;stroke:#000000;stroke-linecap:square;stroke-linejoin:miter;stroke-width:0.8;\"/>\n   </g>\n   <g id=\"text_6\">\n    <!-- 5 -->\n    <g transform=\"translate(54.985948 194.22358)scale(0.12 -0.12)\">\n     <defs>\n      <path d=\"M 10.796875 72.90625 \nL 49.515625 72.90625 \nL 49.515625 64.59375 \nL 19.828125 64.59375 \nL 19.828125 46.734375 \nQ 21.96875 47.46875 24.109375 47.828125 \nQ 26.265625 48.1875 28.421875 48.1875 \nQ 40.625 48.1875 47.75 41.5 \nQ 54.890625 34.8125 54.890625 23.390625 \nQ 54.890625 11.625 47.5625 5.09375 \nQ 40.234375 -1.421875 26.90625 -1.421875 \nQ 22.3125 -1.421875 17.546875 -0.640625 \nQ 12.796875 0.140625 7.71875 1.703125 \nL 7.71875 11.625 \nQ 12.109375 9.234375 16.796875 8.0625 \nQ 21.484375 6.890625 26.703125 6.890625 \nQ 35.15625 6.890625 40.078125 11.328125 \nQ 45.015625 15.765625 45.015625 23.390625 \nQ 45.015625 31 40.078125 35.4375 \nQ 35.15625 39.890625 26.703125 39.890625 \nQ 22.75 39.890625 18.8125 39.015625 \nQ 14.890625 38.140625 10.796875 36.28125 \nz\n\" id=\"DejaVuSans-53\"/>\n     </defs>\n     <use xlink:href=\"#DejaVuSans-53\"/>\n    </g>\n   </g>\n  </g>\n  <g id=\"axes_7\">\n   <g id=\"patch_32\">\n    <path d=\"M 126.148276 296.430476 \nL 222.355172 296.430476 \nL 222.355172 200.22358 \nL 126.148276 200.22358 \nz\n\" style=\"fill:#ffffff;\"/>\n   </g>\n   <g clip-path=\"url(#p2b9db42038)\">\n    <image height=\"97\" id=\"image83e4243b8f\" transform=\"scale(1 -1)translate(0 -97)\" width=\"97\" x=\"126.148276\" xlink:href=\"data:image/png;base64,\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\" y=\"-199.430476\"/>\n   </g>\n   <g id=\"matplotlib.axis_13\"/>\n   <g id=\"matplotlib.axis_14\"/>\n   <g id=\"patch_33\">\n    <path d=\"M 126.148276 296.430476 \nL 126.148276 200.22358 \n\" style=\"fill:none;stroke:#000000;stroke-linecap:square;stroke-linejoin:miter;stroke-width:0.8;\"/>\n   </g>\n   <g id=\"patch_34\">\n    <path d=\"M 222.355172 296.430476 \nL 222.355172 200.22358 \n\" style=\"fill:none;stroke:#000000;stroke-linecap:square;stroke-linejoin:miter;stroke-width:0.8;\"/>\n   </g>\n   <g id=\"patch_35\">\n    <path d=\"M 126.148276 296.430476 \nL 222.355172 296.430476 \n\" style=\"fill:none;stroke:#000000;stroke-linecap:square;stroke-linejoin:miter;stroke-width:0.8;\"/>\n   </g>\n   <g id=\"patch_36\">\n    <path d=\"M 126.148276 200.22358 \nL 222.355172 200.22358 \n\" style=\"fill:none;stroke:#000000;stroke-linecap:square;stroke-linejoin:miter;stroke-width:0.8;\"/>\n   </g>\n   <g id=\"text_7\">\n    <!-- 6 -->\n    <g transform=\"translate(170.434224 194.22358)scale(0.12 -0.12)\">\n     <defs>\n      <path d=\"M 33.015625 40.375 \nQ 26.375 40.375 22.484375 35.828125 \nQ 18.609375 31.296875 18.609375 23.390625 \nQ 18.609375 15.53125 22.484375 10.953125 \nQ 26.375 6.390625 33.015625 6.390625 \nQ 39.65625 6.390625 43.53125 10.953125 \nQ 47.40625 15.53125 47.40625 23.390625 \nQ 47.40625 31.296875 43.53125 35.828125 \nQ 39.65625 40.375 33.015625 40.375 \nz\nM 52.59375 71.296875 \nL 52.59375 62.3125 \nQ 48.875 64.0625 45.09375 64.984375 \nQ 41.3125 65.921875 37.59375 65.921875 \nQ 27.828125 65.921875 22.671875 59.328125 \nQ 17.53125 52.734375 16.796875 39.40625 \nQ 19.671875 43.65625 24.015625 45.921875 \nQ 28.375 48.1875 33.59375 48.1875 \nQ 44.578125 48.1875 50.953125 41.515625 \nQ 57.328125 34.859375 57.328125 23.390625 \nQ 57.328125 12.15625 50.6875 5.359375 \nQ 44.046875 -1.421875 33.015625 -1.421875 \nQ 20.359375 -1.421875 13.671875 8.265625 \nQ 6.984375 17.96875 6.984375 36.375 \nQ 6.984375 53.65625 15.1875 63.9375 \nQ 23.390625 74.21875 37.203125 74.21875 \nQ 40.921875 74.21875 44.703125 73.484375 \nQ 48.484375 72.75 52.59375 71.296875 \nz\n\" id=\"DejaVuSans-54\"/>\n     </defs>\n     <use xlink:href=\"#DejaVuSans-54\"/>\n    </g>\n   </g>\n  </g>\n  <g id=\"axes_8\">\n   <g id=\"patch_37\">\n    <path d=\"M 241.596552 296.430476 \nL 337.803448 296.430476 \nL 337.803448 200.22358 \nL 241.596552 200.22358 \nz\n\" style=\"fill:#ffffff;\"/>\n   </g>\n   <g clip-path=\"url(#p8eb10f3742)\">\n    <image height=\"97\" id=\"image33b816cf8b\" transform=\"scale(1 -1)translate(0 -97)\" width=\"97\" x=\"241.596552\" xlink:href=\"data:image/png;base64,\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\" y=\"-199.430476\"/>\n   </g>\n   <g id=\"matplotlib.axis_15\"/>\n   <g id=\"matplotlib.axis_16\"/>\n   <g id=\"patch_38\">\n    <path d=\"M 241.596552 296.430476 \nL 241.596552 200.22358 \n\" style=\"fill:none;stroke:#000000;stroke-linecap:square;stroke-linejoin:miter;stroke-width:0.8;\"/>\n   </g>\n   <g id=\"patch_39\">\n    <path d=\"M 337.803448 296.430476 \nL 337.803448 200.22358 \n\" style=\"fill:none;stroke:#000000;stroke-linecap:square;stroke-linejoin:miter;stroke-width:0.8;\"/>\n   </g>\n   <g id=\"patch_40\">\n    <path d=\"M 241.596552 296.430476 \nL 337.803448 296.430476 \n\" style=\"fill:none;stroke:#000000;stroke-linecap:square;stroke-linejoin:miter;stroke-width:0.8;\"/>\n   </g>\n   <g id=\"patch_41\">\n    <path d=\"M 241.596552 200.22358 \nL 337.803448 200.22358 \n\" style=\"fill:none;stroke:#000000;stroke-linecap:square;stroke-linejoin:miter;stroke-width:0.8;\"/>\n   </g>\n   <g id=\"text_8\">\n    <!-- 7 -->\n    <g transform=\"translate(285.8825 194.22358)scale(0.12 -0.12)\">\n     <defs>\n      <path d=\"M 8.203125 72.90625 \nL 55.078125 72.90625 \nL 55.078125 68.703125 \nL 28.609375 0 \nL 18.3125 0 \nL 43.21875 64.59375 \nL 8.203125 64.59375 \nz\n\" id=\"DejaVuSans-55\"/>\n     </defs>\n     <use xlink:href=\"#DejaVuSans-55\"/>\n    </g>\n   </g>\n  </g>\n  <g id=\"axes_9\">\n   <g id=\"patch_42\">\n    <path d=\"M 357.044828 296.430476 \nL 453.251724 296.430476 \nL 453.251724 200.22358 \nL 357.044828 200.22358 \nz\n\" style=\"fill:#ffffff;\"/>\n   </g>\n   <g clip-path=\"url(#pd584a03b39)\">\n    <image height=\"97\" id=\"image85be07fd4e\" transform=\"scale(1 -1)translate(0 -97)\" width=\"97\" x=\"357.044828\" xlink:href=\"data:image/png;base64,\niVBORw0KGgoAAAANSUhEUgAAAGEAAABhCAYAAADGBs+jAAAGr0lEQVR4nO1dx04lSwwtcs5BgACRJBBIbNixQWLHb7DjO1kiQIQFQogocs4ZZlc6Ppq2evo1M75PPiu33BFTxy7bVbdobm7uOxjB9/fPvkpRUdGP3j8riv/1CzjcCCZQmsdNmEa+vr7+sw5lhkYrqCsulv9jJSUliffgc7M8Oyt8JBiAG8EA3AgGkNknpA0nmdvx+P39Xejw+PPzM/GeyN8a75eWys/Dd+brtO/R/EwePsJHggG4EQwgMx1poSbSQE1NjdDhcUNDg9C1trZGub29Xejw3Ofn5yjf3t6K8y4vL6P88PAgdDc3N4k6vKdGhUyvSE9ZqclHggG4EQzAjWAAqX0C8yRy48fHh9BVVFREub6+Xuiam5uj3NfXJ3Q9PT1RZp+A9ykrK4syc/vFxUWUDw8PhW5vby/KR0dHQnd9fR3lp6cnocPvY97Hv0PW8NVHggG4EQxApSMMPTk0w9mtlvFkqsLrePhiaHt3dyd0SDt4z5eXF3EeUsnr66vQ4Wy6trZW6DDU1WbTWojKSBu++kgwADeCAbgRDCB1iMqpCQxZ397ehA75u6qqSuiQJ5lfMbzc2NgQus3NzSjf399HmX0OhsBNTU1CV15eHmVMU4Qgv4e/FZ+hpWg8bVHAcCMYQGY6QnAoiMOXQ0GcTbe1tQkdhpA8a93d3Y3y8vJylJkCcBbe1dUldI2NjVHm78HnadkBrUGAw1W8Dr+N4SPBANwIBuBGMIDUPkHLHnKIijoMJ0OQIR37C/QRU1NTQofPwOoZVsv42RwCn5yc/PY9QpA+gRsQ0I9pIbfG+xp8JBiAG8EAMtORNjvEoc2F+IODgyiPjIwI3cDAQJRHR0eFDoc6zsi5cIMFHwZS1/n5eaKOgU0GfH+kNS2MZ53oZUq8yvHX4EYwADeCAWT2CciFPF3HcBJ9QAgyxcFhYktLS5TZX+DxzMxMlNfX18V5j4+PUeZiPmZpMVwNQfox/latIoeZWUbafl0fCQbgRjAAlY5wWPJsEI85bMMsJM5uQ5DZ0OPjY/kyQE+zs7NC19nZGeXx8fEoc1/T/v5+lDk8RgpiqsJvZYrBZgJuLMAZNM/QmW6T4CPBANwIBuBGMIBcltCyv8CQlStk6CM4w4oVs8XFRaGbnp6OMvJwd3e3OA/9EXMy+gHuYUU/wCE3Vgq56oZhKIek3vxVQHAjGEBmOsLhxcMel0RxEUSbYWJIia3qIciZMIalfD/sO+JM7OTkZJTn5+eFDimH3xmP+Xle1PmfwI1gAG4EA8icRUUurKysFDrsAcVlsSHIqT37ElwuxY1byMuYOjg7OxPnYQjZ398vdJh9Rd8RQginp6e/vT+jurpaHGuhbVr4SDAAN4IBpF4upRU6sC8nBBnu8YwW6YkLJMPDw1Hm1f44w8XwdWFhQZyHBSVeHTo0NBRlzr7u7OxEmbOvOLPnWT6Cs8le1CkguBEMIJfWeJ4p1tXVRVmLJphyMCLi1kos1iwtLUV5bW1NnId0wTosBnENG+vb3JOEERgXqXCVKa8awno6//3E3kvB8c/hRjAAN4IBZN5gRCtSaH066C9YhzNvXoKFIeTq6mqUV1ZWxHnI0exzsN+U/djg4GCUOzo6hA79GIeheB/uZ0Ufwf4C4SPBANwIBpDLlpw81JC6uAiCSTse2li44cIKzmKxbo2tjSHI8JILQ/henFjEGTSvKkWa5JAbr+PEH4bZTkfG4UYwADeCAeSyepN1yIXI8yFIfmWfoBVTMBur7VeHG5HwKkwuPiHwXfg6/B7+Vm1jEm3vWISPBANwIxhA6tZ4bfMMLUPIM9+rq6soa2Ebz3Zxc5CxsbEoc614YmIiykxvOEPv7e1N1HEGF2fCvDcf0iFfp1GVr940BjeCAbgRDCBz2kLbyw4zixzuYcjKnI3HzKG42h+znNxIgNyu7VfHe+BpuxBgNY116PPY/2mNEggfCQbgRjCAXNogtZZwpioMS3n4YgaUZ8JIAxhecrskrvLEAlIIku6w7TEEuYoHd5cPQYaoXNzCY2+DLGC4EQzAjWAAuSyXYp+gpTswTNS29efs69bWVpS3t7ejrC1f0n5SgENnvI7vqf1wKh5zVth/SaSA4EYwgFwWk2tt80xHeMwrdXA4a6EthoVMK1p2V6MO7Z213/NMuv+fwEeCAbgRDMCNYAC5+AQNWrqDgdzLPiHJX6T9HeU/eU/Nx+Xx+8sMHwkG4EYwgB+nI0bqWWRK2tLur4WoluAjwQDcCAbgRjCAv+4T0iIP/rbqAxg+EgzAjWAAvwAwsSa9udHsSgAAAABJRU5ErkJggg==\" y=\"-199.430476\"/>\n   </g>\n   <g id=\"matplotlib.axis_17\"/>\n   <g id=\"matplotlib.axis_18\"/>\n   <g id=\"patch_43\">\n    <path d=\"M 357.044828 296.430476 \nL 357.044828 200.22358 \n\" style=\"fill:none;stroke:#000000;stroke-linecap:square;stroke-linejoin:miter;stroke-width:0.8;\"/>\n   </g>\n   <g id=\"patch_44\">\n    <path d=\"M 453.251724 296.430476 \nL 453.251724 200.22358 \n\" style=\"fill:none;stroke:#000000;stroke-linecap:square;stroke-linejoin:miter;stroke-width:0.8;\"/>\n   </g>\n   <g id=\"patch_45\">\n    <path d=\"M 357.044828 296.430476 \nL 453.251724 296.430476 \n\" style=\"fill:none;stroke:#000000;stroke-linecap:square;stroke-linejoin:miter;stroke-width:0.8;\"/>\n   </g>\n   <g id=\"patch_46\">\n    <path d=\"M 357.044828 200.22358 \nL 453.251724 200.22358 \n\" style=\"fill:none;stroke:#000000;stroke-linecap:square;stroke-linejoin:miter;stroke-width:0.8;\"/>\n   </g>\n   <g id=\"text_9\">\n    <!-- 8 -->\n    <g transform=\"translate(401.330776 194.22358)scale(0.12 -0.12)\">\n     <defs>\n      <path d=\"M 31.78125 34.625 \nQ 24.75 34.625 20.71875 30.859375 \nQ 16.703125 27.09375 16.703125 20.515625 \nQ 16.703125 13.921875 20.71875 10.15625 \nQ 24.75 6.390625 31.78125 6.390625 \nQ 38.8125 6.390625 42.859375 10.171875 \nQ 46.921875 13.96875 46.921875 20.515625 \nQ 46.921875 27.09375 42.890625 30.859375 \nQ 38.875 34.625 31.78125 34.625 \nz\nM 21.921875 38.8125 \nQ 15.578125 40.375 12.03125 44.71875 \nQ 8.5 49.078125 8.5 55.328125 \nQ 8.5 64.0625 14.71875 69.140625 \nQ 20.953125 74.21875 31.78125 74.21875 \nQ 42.671875 74.21875 48.875 69.140625 \nQ 55.078125 64.0625 55.078125 55.328125 \nQ 55.078125 49.078125 51.53125 44.71875 \nQ 48 40.375 41.703125 38.8125 \nQ 48.828125 37.15625 52.796875 32.3125 \nQ 56.78125 27.484375 56.78125 20.515625 \nQ 56.78125 9.90625 50.3125 4.234375 \nQ 43.84375 -1.421875 31.78125 -1.421875 \nQ 19.734375 -1.421875 13.25 4.234375 \nQ 6.78125 9.90625 6.78125 20.515625 \nQ 6.78125 27.484375 10.78125 32.3125 \nQ 14.796875 37.15625 21.921875 38.8125 \nz\nM 18.3125 54.390625 \nQ 18.3125 48.734375 21.84375 45.5625 \nQ 25.390625 42.390625 31.78125 42.390625 \nQ 38.140625 42.390625 41.71875 45.5625 \nQ 45.3125 48.734375 45.3125 54.390625 \nQ 45.3125 60.0625 41.71875 63.234375 \nQ 38.140625 66.40625 31.78125 66.40625 \nQ 25.390625 66.40625 21.84375 63.234375 \nQ 18.3125 60.0625 18.3125 54.390625 \nz\n\" id=\"DejaVuSans-56\"/>\n     </defs>\n     <use xlink:href=\"#DejaVuSans-56\"/>\n    </g>\n   </g>\n  </g>\n  <g id=\"axes_10\">\n   <g id=\"patch_47\">\n    <path d=\"M 472.493103 296.430476 \nL 568.7 296.430476 \nL 568.7 200.22358 \nL 472.493103 200.22358 \nz\n\" style=\"fill:#ffffff;\"/>\n   </g>\n   <g clip-path=\"url(#pf8add15330)\">\n    <image height=\"97\" id=\"image200f0468f4\" transform=\"scale(1 -1)translate(0 -97)\" width=\"97\" x=\"472.493103\" xlink:href=\"data:image/png;base64,\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\" y=\"-199.430476\"/>\n   </g>\n   <g id=\"matplotlib.axis_19\"/>\n   <g id=\"matplotlib.axis_20\"/>\n   <g id=\"patch_48\">\n    <path d=\"M 472.493103 296.430476 \nL 472.493103 200.22358 \n\" style=\"fill:none;stroke:#000000;stroke-linecap:square;stroke-linejoin:miter;stroke-width:0.8;\"/>\n   </g>\n   <g id=\"patch_49\">\n    <path d=\"M 568.7 296.430476 \nL 568.7 200.22358 \n\" style=\"fill:none;stroke:#000000;stroke-linecap:square;stroke-linejoin:miter;stroke-width:0.8;\"/>\n   </g>\n   <g id=\"patch_50\">\n    <path d=\"M 472.493103 296.430476 \nL 568.7 296.430476 \n\" style=\"fill:none;stroke:#000000;stroke-linecap:square;stroke-linejoin:miter;stroke-width:0.8;\"/>\n   </g>\n   <g id=\"patch_51\">\n    <path d=\"M 472.493103 200.22358 \nL 568.7 200.22358 \n\" style=\"fill:none;stroke:#000000;stroke-linecap:square;stroke-linejoin:miter;stroke-width:0.8;\"/>\n   </g>\n   <g id=\"text_10\">\n    <!-- 9 -->\n    <g transform=\"translate(516.779052 194.22358)scale(0.12 -0.12)\">\n     <defs>\n      <path d=\"M 10.984375 1.515625 \nL 10.984375 10.5 \nQ 14.703125 8.734375 18.5 7.8125 \nQ 22.3125 6.890625 25.984375 6.890625 \nQ 35.75 6.890625 40.890625 13.453125 \nQ 46.046875 20.015625 46.78125 33.40625 \nQ 43.953125 29.203125 39.59375 26.953125 \nQ 35.25 24.703125 29.984375 24.703125 \nQ 19.046875 24.703125 12.671875 31.3125 \nQ 6.296875 37.9375 6.296875 49.421875 \nQ 6.296875 60.640625 12.9375 67.421875 \nQ 19.578125 74.21875 30.609375 74.21875 \nQ 43.265625 74.21875 49.921875 64.515625 \nQ 56.59375 54.828125 56.59375 36.375 \nQ 56.59375 19.140625 48.40625 8.859375 \nQ 40.234375 -1.421875 26.421875 -1.421875 \nQ 22.703125 -1.421875 18.890625 -0.6875 \nQ 15.09375 0.046875 10.984375 1.515625 \nz\nM 30.609375 32.421875 \nQ 37.25 32.421875 41.125 36.953125 \nQ 45.015625 41.5 45.015625 49.421875 \nQ 45.015625 57.28125 41.125 61.84375 \nQ 37.25 66.40625 30.609375 66.40625 \nQ 23.96875 66.40625 20.09375 61.84375 \nQ 16.21875 57.28125 16.21875 49.421875 \nQ 16.21875 41.5 20.09375 36.953125 \nQ 23.96875 32.421875 30.609375 32.421875 \nz\n\" id=\"DejaVuSans-57\"/>\n     </defs>\n     <use xlink:href=\"#DejaVuSans-57\"/>\n    </g>\n   </g>\n  </g>\n </g>\n <defs>\n  <clipPath id=\"pd4d4a827b2\">\n   <rect height=\"96.206897\" width=\"96.206897\" x=\"10.7\" y=\"22.318125\"/>\n  </clipPath>\n  <clipPath id=\"p69e90aec73\">\n   <rect height=\"96.206897\" width=\"96.206897\" x=\"126.148276\" y=\"22.318125\"/>\n  </clipPath>\n  <clipPath id=\"p92fccf13c8\">\n   <rect height=\"96.206897\" width=\"96.206897\" x=\"241.596552\" y=\"22.318125\"/>\n  </clipPath>\n  <clipPath id=\"pb2a8bde048\">\n   <rect height=\"96.206897\" width=\"96.206897\" x=\"357.044828\" y=\"22.318125\"/>\n  </clipPath>\n  <clipPath id=\"pa0549aad61\">\n   <rect height=\"96.206897\" width=\"96.206897\" x=\"472.493103\" y=\"22.318125\"/>\n  </clipPath>\n  <clipPath id=\"p6df33bf4cb\">\n   <rect height=\"96.206897\" width=\"96.206897\" x=\"10.7\" y=\"200.22358\"/>\n  </clipPath>\n  <clipPath id=\"p2b9db42038\">\n   <rect height=\"96.206897\" width=\"96.206897\" x=\"126.148276\" y=\"200.22358\"/>\n  </clipPath>\n  <clipPath id=\"p8eb10f3742\">\n   <rect height=\"96.206897\" width=\"96.206897\" x=\"241.596552\" y=\"200.22358\"/>\n  </clipPath>\n  <clipPath id=\"pd584a03b39\">\n   <rect height=\"96.206897\" width=\"96.206897\" x=\"357.044828\" y=\"200.22358\"/>\n  </clipPath>\n  <clipPath id=\"pf8add15330\">\n   <rect height=\"96.206897\" width=\"96.206897\" x=\"472.493103\" y=\"200.22358\"/>\n  </clipPath>\n </defs>\n</svg>\n",
      "image/png": "[encoded data removed]"
     },
     "metadata": {}
    }
   ],
   "source": [
    "W = logreg.coef_\n",
    "nlabel = W.shape[0]\n",
    "plt.figure(figsize=(10, 6))\n",
    "for i in range(nlabel):\n",
    "    plt.subplot(2,5,i+1)\n",
    "    plt_digit(W[i,:])\n",
    "    plt.title('{0:d}'.format(i))"
   ]
  },
  {
   "cell_type": "markdown",
   "metadata": {},
   "source": [
    "What you see is that each weight is a very blurry version of the digit.  The blurriness is due to the fact that weight must correlate with all shifts, rotations and other variations of the digits.  As a result, the weights begin to correlate with other incorrect digits leading to poor performance."
   ]
  },
  {
   "cell_type": "markdown",
   "metadata": {},
   "source": [
    "## Run an SVM classifier\n",
    "\n",
    "We now try an SVM classifier.  The parameters are given by \n",
    "\n",
    "https://martin-thoma.com/svm-with-sklearn/\n",
    "\n",
    "This website has a nice summary of the main equations for SVM as well.  That site trained on 40000 samples and tested on 20000.  But, to make this run faster, we will train on 10000 and test on 10000.  If you increase to 40000 training samples, you can get past 99% accuracy.\n",
    "\n",
    "First, we import the SVM package and construct the SVC with the parameters."
   ]
  },
  {
   "cell_type": "markdown",
   "metadata": {},
   "source": [
    "## First let us try the linear kernel"
   ]
  },
  {
   "cell_type": "code",
   "execution_count": 11,
   "metadata": {},
   "outputs": [],
   "source": [
    "from sklearn import svm\n",
    "\n",
    "# Create a classifier: a support vector classifier\n",
    "# svc = svm.SVC(probability=False,  kernel=\"rbf\", C=2.8, gamma=.0073,verbose=10)\n",
    "svc = svm.SVC(probability=False,  kernel=\"linear\", C=2.8, gamma=.0073,verbose=10)"
   ]
  },
  {
   "cell_type": "markdown",
   "metadata": {},
   "source": [
    "Next, we get the training and test data.  The features are re-scaled to be between -1 and 1."
   ]
  },
  {
   "cell_type": "markdown",
   "metadata": {},
   "source": [
    "We fit the training data.  Again, this will take several minutes."
   ]
  },
  {
   "cell_type": "code",
   "execution_count": 13,
   "metadata": {},
   "outputs": [
    {
     "output_type": "error",
     "ename": "NameError",
     "evalue": "name 'Iperm_ts' is not defined",
     "traceback": [
      "\u001b[0;31m---------------------------------------------------------------------------\u001b[0m",
      "\u001b[0;31mNameError\u001b[0m                                 Traceback (most recent call last)",
      "\u001b[0;32m<ipython-input-13-bd39e96d6f95>\u001b[0m in \u001b[0;36m<module>\u001b[0;34m\u001b[0m\n\u001b[1;32m      3\u001b[0m \u001b[0mXtr1\u001b[0m \u001b[0;34m=\u001b[0m \u001b[0mXtr\u001b[0m\u001b[0;34m[\u001b[0m\u001b[0mIperm\u001b[0m\u001b[0;34m[\u001b[0m\u001b[0;34m:\u001b[0m\u001b[0mntr1\u001b[0m\u001b[0;34m]\u001b[0m\u001b[0;34m,\u001b[0m\u001b[0;34m:\u001b[0m\u001b[0;34m]\u001b[0m\u001b[0;34m\u001b[0m\u001b[0;34m\u001b[0m\u001b[0m\n\u001b[1;32m      4\u001b[0m \u001b[0mytr1\u001b[0m \u001b[0;34m=\u001b[0m \u001b[0mytr\u001b[0m\u001b[0;34m[\u001b[0m\u001b[0mIperm\u001b[0m\u001b[0;34m[\u001b[0m\u001b[0;34m:\u001b[0m\u001b[0mntr1\u001b[0m\u001b[0;34m]\u001b[0m\u001b[0;34m]\u001b[0m\u001b[0;34m\u001b[0m\u001b[0;34m\u001b[0m\u001b[0m\n\u001b[0;32m----> 5\u001b[0;31m \u001b[0mXts1\u001b[0m \u001b[0;34m=\u001b[0m \u001b[0mXts\u001b[0m\u001b[0;34m[\u001b[0m\u001b[0mIperm_ts\u001b[0m\u001b[0;34m[\u001b[0m\u001b[0;34m:\u001b[0m\u001b[0mnts1\u001b[0m\u001b[0;34m]\u001b[0m\u001b[0;34m,\u001b[0m\u001b[0;34m:\u001b[0m\u001b[0;34m]\u001b[0m\u001b[0;34m\u001b[0m\u001b[0;34m\u001b[0m\u001b[0m\n\u001b[0m\u001b[1;32m      6\u001b[0m \u001b[0myts1\u001b[0m \u001b[0;34m=\u001b[0m \u001b[0myts\u001b[0m\u001b[0;34m[\u001b[0m\u001b[0mIperm_ts\u001b[0m\u001b[0;34m[\u001b[0m\u001b[0;34m:\u001b[0m\u001b[0mnts1\u001b[0m\u001b[0;34m]\u001b[0m\u001b[0;34m]\u001b[0m\u001b[0;34m\u001b[0m\u001b[0;34m\u001b[0m\u001b[0m\n",
      "\u001b[0;31mNameError\u001b[0m: name 'Iperm_ts' is not defined"
     ]
    }
   ],
   "source": [
    "ntr1 = 5000\n",
    "nts1 = 5000\n",
    "Xtr1 = Xtr[Iperm[:ntr1],:]\n",
    "ytr1 = ytr[Iperm[:ntr1]]\n",
    "Xts1 = Xts[Iperm_ts[:nts1],:]\n",
    "yts1 = yts[Iperm_ts[:nts1]]"
   ]
  },
  {
   "cell_type": "code",
   "execution_count": 16,
   "metadata": {},
   "outputs": [
    {
     "name": "stdout",
     "output_type": "stream",
     "text": [
      "[LibSVM]"
     ]
    },
    {
     "data": {
      "text/plain": [
       "SVC(C=2.8, cache_size=200, class_weight=None, coef0=0.0,\n",
       "  decision_function_shape='ovr', degree=3, gamma=0.0073, kernel='linear',\n",
       "  max_iter=-1, probability=False, random_state=None, shrinking=True,\n",
       "  tol=0.001, verbose=10)"
      ]
     },
     "execution_count": 16,
     "metadata": {},
     "output_type": "execute_result"
    }
   ],
   "source": [
    "svc.fit(Xtr,ytr)"
   ]
  },
  {
   "cell_type": "markdown",
   "metadata": {},
   "source": [
    "Save the results in case you want them without re-running the above the code."
   ]
  },
  {
   "cell_type": "code",
   "execution_count": 17,
   "metadata": {},
   "outputs": [],
   "source": [
    "import pickle\n",
    "\n",
    "with open( \"mnist_svc.p\", \"wb\" ) as fp:\n",
    "    pickle.dump( [svc, Xtr1,ytr1], fp)"
   ]
  },
  {
   "cell_type": "markdown",
   "metadata": {},
   "source": [
    "We can reload the data"
   ]
  },
  {
   "cell_type": "code",
   "execution_count": 18,
   "metadata": {},
   "outputs": [],
   "source": [
    "# Can skip this step if you run the classifier directly\n",
    "import pickle\n",
    "with open( \"mnist_svc.p\", \"rb\" ) as fp:\n",
    "    svc, Xtr1,ytr1 = pickle.load(fp)"
   ]
  },
  {
   "cell_type": "markdown",
   "metadata": {},
   "source": [
    "Measure the accuracy on the test data.  The prediction can take several minutes too -- SVMs are *very* slow!"
   ]
  },
  {
   "cell_type": "code",
   "execution_count": 19,
   "metadata": {},
   "outputs": [],
   "source": [
    "yhat_ts = svc.predict(Xts1)"
   ]
  },
  {
   "cell_type": "markdown",
   "metadata": {},
   "source": [
    "Since even the prediction (sometimes called inference) is slow with SVMs, we will save the results in `pickle` file. Instead of running the prediction again, you can recapture the data with the following comamnd"
   ]
  },
  {
   "cell_type": "code",
   "execution_count": 20,
   "metadata": {},
   "outputs": [],
   "source": [
    "with open(\"mnist_svc_test.p\", \"wb\") as fp:\n",
    "    pickle.dump([Xts1,yts1,yhat_ts], fp)"
   ]
  },
  {
   "cell_type": "code",
   "execution_count": 21,
   "metadata": {},
   "outputs": [],
   "source": [
    "with open(\"mnist_svc_test.p\", \"rb\") as fp:\n",
    "    Xts1,yts1,yhat_ts = pickle.load(fp)"
   ]
  },
  {
   "cell_type": "code",
   "execution_count": 22,
   "metadata": {},
   "outputs": [
    {
     "name": "stdout",
     "output_type": "stream",
     "text": [
      "Accuaracy = 0.931800\n"
     ]
    }
   ],
   "source": [
    "acc = np.mean(yhat_ts == yts1)\n",
    "print('Accuaracy = {0:f}'.format(acc))"
   ]
  },
  {
   "cell_type": "markdown",
   "metadata": {},
   "source": [
    "You should get an accuracy of around 93%.  Again, had you trained on all 50,000 samples, it would have been much better -- close to 98.5%.  But, even this result is much better than logistic regression."
   ]
  },
  {
   "cell_type": "markdown",
   "metadata": {},
   "source": [
    "## Looking at the Support Vectors\n",
    "\n",
    "Let's take a look at the support vectors.  We see there about over 2500 support vectors.  So, about quarter the training samples were used as SVs.  This is partly why the prediction was so slow."
   ]
  },
  {
   "cell_type": "code",
   "execution_count": 23,
   "metadata": {},
   "outputs": [
    {
     "data": {
      "text/plain": [
       "(10124, 784)"
      ]
     },
     "execution_count": 23,
     "metadata": {},
     "output_type": "execute_result"
    }
   ],
   "source": [
    "S = svc.support_vectors_\n",
    "S.shape"
   ]
  },
  {
   "cell_type": "markdown",
   "metadata": {},
   "source": [
    "Let us plot some support vectors"
   ]
  },
  {
   "cell_type": "code",
   "execution_count": 24,
   "metadata": {},
   "outputs": [
    {
     "data": {
      "image/png": "[encoded data removed]",
      "text/plain": [
       "<Figure size 720x288 with 4 Axes>"
      ]
     },
     "metadata": {},
     "output_type": "display_data"
    }
   ],
   "source": [
    "nplt = 4\n",
    "nsv = S.shape[0]\n",
    "Iperms = np.random.permutation(nsv)\n",
    "plt.figure(figsize=(10, 4))\n",
    "for i in range(nplt):        \n",
    "    plt.subplot(1,nplt,i+1)        \n",
    "    ind = Iperms[i]\n",
    "    plt_digit(S[ind,:])   "
   ]
  },
  {
   "cell_type": "markdown",
   "metadata": {},
   "source": [
    "We see that the support vectors look like digits we want to recognize. They are like the 'match filters'."
   ]
  },
  {
   "cell_type": "markdown",
   "metadata": {},
   "source": [
    "## Now let us see the performanc of SVM using the RBF kernel"
   ]
  },
  {
   "cell_type": "code",
   "execution_count": 25,
   "metadata": {},
   "outputs": [],
   "source": [
    "# Create a classifier: a support vector classifier\n",
    "svcrbf = svm.SVC(probability=False,  kernel=\"rbf\", C=2.8, gamma=.0073,verbose=10)"
   ]
  },
  {
   "cell_type": "code",
   "execution_count": 26,
   "metadata": {},
   "outputs": [
    {
     "name": "stdout",
     "output_type": "stream",
     "text": [
      "[LibSVM]"
     ]
    }
   ],
   "source": [
    "# Can skip this step if loading from previous result \n",
    "svcrbf.fit(Xtr1,ytr1)\n",
    "import pickle\n",
    "with open( \"mnist_svcrbf.p\", \"wb\" ) as fp:\n",
    "    pickle.dump( [svcrbf, Xtr1, ytr1], fp)\n",
    "    "
   ]
  },
  {
   "cell_type": "code",
   "execution_count": 28,
   "metadata": {},
   "outputs": [],
   "source": [
    "# Can skip if you run the previous cell\n",
    "import pickle\n",
    "with open( \"mnist_svcrbf.p\", \"rb\" ) as fp:\n",
    "    svcrbf, Xtr1, ytr1 = pickle.load(fp)"
   ]
  },
  {
   "cell_type": "code",
   "execution_count": 29,
   "metadata": {},
   "outputs": [],
   "source": [
    "# skip if load from saved result\n",
    "yhat_ts = svcrbf.predict(Xts1)\n",
    "\n",
    "with open(\"mnist_svcrbf_test.p\", \"wb\") as fp:\n",
    "    pickle.dump([yhat_ts,yts1,Xts1], fp)"
   ]
  },
  {
   "cell_type": "code",
   "execution_count": 30,
   "metadata": {},
   "outputs": [],
   "source": [
    "# skip if you run the previouse cell\n",
    "with open(\"mnist_svcrbf_test.p\", \"rb\") as fp:\n",
    "    yhat_ts,yts1,Xts1 = pickle.load(fp)"
   ]
  },
  {
   "cell_type": "code",
   "execution_count": 32,
   "metadata": {},
   "outputs": [
    {
     "name": "stdout",
     "output_type": "stream",
     "text": [
      "Accuaracy = 0.963400\n"
     ]
    }
   ],
   "source": [
    "acc = np.mean(yhat_ts == yts1)\n",
    "print('Accuaracy = {0:f}'.format(acc))"
   ]
  },
  {
   "cell_type": "markdown",
   "metadata": {},
   "source": [
    "We see that the RBF kernel provides more accurate results. \n",
    "Now let us plot some errors"
   ]
  },
  {
   "cell_type": "code",
   "execution_count": 34,
   "metadata": {},
   "outputs": [
    {
     "data": {
      "image/png": "[encoded data removed]",
      "text/plain": [
       "<Figure size 720x288 with 4 Axes>"
      ]
     },
     "metadata": {},
     "output_type": "display_data"
    }
   ],
   "source": [
    "Ierr = np.where((yhat_ts != yts1))[0]\n",
    "nplt = 4\n",
    "plt.figure(figsize=(10, 4))\n",
    "for i in range(nplt):        \n",
    "    plt.subplot(1,nplt,i+1)        \n",
    "    ind = Ierr[i]    \n",
    "    plt_digit(Xts1[ind,:])        \n",
    "    title = 'true={0:d} est={1:d}'.format(yts1[ind].astype(int), yhat_ts[ind].astype(int))\n",
    "    plt.title(title)"
   ]
  },
  {
   "cell_type": "markdown",
   "metadata": {},
   "source": [
    "We see that again a human would not have made these errors, but the digits in error are much less clear."
   ]
  },
  {
   "cell_type": "markdown",
   "metadata": {},
   "source": [
    "## Looking at the Support Vectors\n",
    "\n",
    "Let's take a look at the support vectors.  We see there about 5000 support vectors.  So, about half the training samples were used as SVs, more than that for the linear kernel.  This is partly why the prediction was so slow."
   ]
  },
  {
   "cell_type": "code",
   "execution_count": 35,
   "metadata": {},
   "outputs": [
    {
     "data": {
      "text/plain": [
       "(3031, 784)"
      ]
     },
     "execution_count": 35,
     "metadata": {},
     "output_type": "execute_result"
    }
   ],
   "source": [
    "S = svcrbf.support_vectors_\n",
    "S.shape"
   ]
  },
  {
   "cell_type": "markdown",
   "metadata": {
    "collapsed": true
   },
   "source": [
    "We can plot some of the vectors."
   ]
  },
  {
   "cell_type": "code",
   "execution_count": 36,
   "metadata": {},
   "outputs": [
    {
     "data": {
      "image/png": "[encoded data removed]",
      "text/plain": [
       "<Figure size 720x288 with 4 Axes>"
      ]
     },
     "metadata": {},
     "output_type": "display_data"
    }
   ],
   "source": [
    "nplt = 4\n",
    "nsv = S.shape[0]\n",
    "Iperms = np.random.permutation(nsv)\n",
    "plt.figure(figsize=(10, 4))\n",
    "for i in range(nplt):        \n",
    "    plt.subplot(1,nplt,i+1)        \n",
    "    ind = Iperms[i]\n",
    "    plt_digit(S[ind,:])        "
   ]
  },
  {
   "cell_type": "markdown",
   "metadata": {
    "collapsed": true
   },
   "source": [
    "In this demo, we specified the parameters for the SVC. In the lab, you will be asked to find the optimal parameters through cross validation."
   ]
  },
  {
   "cell_type": "code",
   "execution_count": null,
   "metadata": {
    "collapsed": true
   },
   "outputs": [],
   "source": []
  }
 ],
 "metadata": {
  "anaconda-cloud": {},
  "kernelspec": {
   "name": "Python 3.8.5 64-bit ('ml': conda)",
   "display_name": "Python 3.8.5 64-bit ('ml': conda)",
   "metadata": {
    "interpreter": {
     "hash": "672022151c946f1a1ff101b9e4f65eb40a3cb9782b5777d2823ffc2eec1c405e"
    }
   }
  },
  "language_info": {
   "codemirror_mode": {
    "name": "ipython",
    "version": 3
   },
   "file_extension": ".py",
   "mimetype": "text/x-python",
   "name": "python",
   "nbconvert_exporter": "python",
   "pygments_lexer": "ipython3",
   "version": "3.8.5-final"
  }
 },
 "nbformat": 4,
 "nbformat_minor": 1
}